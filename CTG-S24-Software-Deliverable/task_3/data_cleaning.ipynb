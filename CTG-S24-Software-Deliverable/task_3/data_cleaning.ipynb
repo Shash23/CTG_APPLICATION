{
 "cells": [
  {
   "cell_type": "code",
   "execution_count": 7,
   "id": "021351aa",
   "metadata": {},
   "outputs": [],
   "source": [
    "import pandas as pd\n",
    "import os"
   ]
  },
  {
   "cell_type": "code",
   "execution_count": 8,
   "id": "cc25abd6",
   "metadata": {},
   "outputs": [
    {
     "data": {
      "text/plain": [
       "['MSFT',\n",
       " 'AAPL',\n",
       " 'NVDA',\n",
       " 'AMZN',\n",
       " 'GOOGL',\n",
       " 'META',\n",
       " 'GOOG',\n",
       " 'CVX',\n",
       " 'TSLA',\n",
       " 'LLY',\n",
       " 'UNH',\n",
       " 'AVGO',\n",
       " 'JPM',\n",
       " 'V',\n",
       " 'XOM',\n",
       " 'JNJ',\n",
       " 'HD',\n",
       " 'MA',\n",
       " 'PG',\n",
       " 'COST',\n",
       " 'MRK',\n",
       " 'ABBV',\n",
       " 'ADBE',\n",
       " 'CRM',\n",
       " 'AMD']"
      ]
     },
     "execution_count": 8,
     "metadata": {},
     "output_type": "execute_result"
    }
   ],
   "source": [
    "parent_dir = \"..\"\n",
    "task_dir = \"task_1\"\n",
    "filename = \"tickers.txt\"\n",
    "\n",
    "data_directory = os.path.join(parent_dir, task_dir,filename)\n",
    "\n",
    "tickers = []\n",
    "with open(data_directory, 'r') as f:\n",
    "    for line in f:\n",
    "        tickers.append(line.strip())\n",
    "        \n",
    "# tickers"
   ]
  },
  {
   "cell_type": "code",
   "execution_count": 16,
   "id": "b3d4cd01",
   "metadata": {},
   "outputs": [],
   "source": [
    "df = pd.read_csv(\"sample-factor.csv\")\n",
    "df.head(20)\n",
    "\n",
    "df_filtered = df[tickers].copy()\n",
    "\n",
    "# dates = pd.date_range(start='1/1/2021', periods=len(df_filtered), freq='D')\n",
    "# df_filtered.insert(0, 'date', dates)\n",
    "# print(df_filtered)\n",
    "\n",
    "filename = \"factor.csv\"\n",
    "df_filtered.to_csv(filename)\n",
    "\n"
   ]
  },
  {
   "cell_type": "code",
   "execution_count": null,
   "id": "b683898b",
   "metadata": {},
   "outputs": [],
   "source": []
  }
 ],
 "metadata": {
  "kernelspec": {
   "display_name": "Python 3 (ipykernel)",
   "language": "python",
   "name": "python3"
  },
  "language_info": {
   "codemirror_mode": {
    "name": "ipython",
    "version": 3
   },
   "file_extension": ".py",
   "mimetype": "text/x-python",
   "name": "python",
   "nbconvert_exporter": "python",
   "pygments_lexer": "ipython3",
   "version": "3.9.7"
  }
 },
 "nbformat": 4,
 "nbformat_minor": 5
}
