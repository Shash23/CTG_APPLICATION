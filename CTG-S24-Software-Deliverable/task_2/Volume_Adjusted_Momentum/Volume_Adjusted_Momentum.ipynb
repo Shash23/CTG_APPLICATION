{
 "cells": [
  {
   "cell_type": "code",
   "execution_count": 4,
   "id": "4785641c",
   "metadata": {},
   "outputs": [],
   "source": [
    "'''\n",
    "Name: Shashwat Ghevde\n",
    "'''"
   ]
  },
  {
   "cell_type": "code",
   "execution_count": null,
   "id": "9a00062d",
   "metadata": {},
   "outputs": [],
   "source": [
    "import pandas as pd\n",
    "import os"
   ]
  },
  {
   "cell_type": "code",
   "execution_count": 10,
   "id": "1be9557d",
   "metadata": {},
   "outputs": [],
   "source": [
    "# accessing the tickers.txt in Task 1 folder\n",
    "\n",
    "parent_dir = \"..\"\n",
    "task_dir = \"task_1\"\n",
    "filename = \"tickers.txt\"\n",
    "\n",
    "data_directory = os.path.join(parent_dir, task_dir,filename)\n",
    "\n",
    "tickers = []\n",
    "with open(data_directory, 'r') as f:\n",
    "    for line in f:\n",
    "        tickers.append(line.strip())"
   ]
  },
  {
   "cell_type": "code",
   "execution_count": 11,
   "id": "5484ece2",
   "metadata": {},
   "outputs": [],
   "source": [
    "\n",
    "'''\n",
    "Parameters: df(Dataframe with the wanted columns), ticker(String with company ticker name)\n",
    "Return: N/A\n",
    "\n",
    "This method calculates the volume momentum\n",
    "'''\n",
    "def calculate_volume_momentum(df, ticker):\n",
    "    df[f\"{ticker}\"] = ((df[\"Volume\"] - df[\"Volume\"].shift(15)) / df[\"Volume\"].shift(15)) * 100\n",
    "    return df\n",
    "\n",
    "# Same structure except noted method use\n",
    "\n",
    "momentum_df = pd.DataFrame()\n",
    "\n",
    "parent_dir = \"..\"\n",
    "task_dir = \"task_1\"\n",
    "data_dir = \"data\"\n",
    "extension = \".csv\"\n",
    "\n",
    "first_ticker_flag = True\n",
    "\n",
    "for ticker in tickers:\n",
    "    \n",
    "    ticker_extension = ticker + extension\n",
    "    \n",
    "    company_path = os.path.join(parent_dir, task_dir, data_dir, ticker_extension)\n",
    "    df = pd.read_csv(company_path)\n",
    "    \n",
    "    # change from the price momentum\n",
    "    df = calculate_volume_momentum(df, ticker)    \n",
    "    df = df[['Date', f'{ticker}']]\n",
    "\n",
    "    if first_ticker_flag:\n",
    "        momentum_df = df\n",
    "        first_ticker_flag = False\n",
    "    else:\n",
    "        momentum_df = pd.merge(momentum_df, df, on = \"Date\", how = \"left\")\n",
    "        \n",
    "        \n",
    "    \n",
    "momentum_df.fillna('', inplace = True)    \n",
    "\n",
    "filename = \"volume_momentum.csv\"\n",
    "momentum_df.to_csv(filename)\n"
   ]
  }
 ],
 "metadata": {
  "kernelspec": {
   "display_name": "Python 3 (ipykernel)",
   "language": "python",
   "name": "python3"
  },
  "language_info": {
   "codemirror_mode": {
    "name": "ipython",
    "version": 3
   },
   "file_extension": ".py",
   "mimetype": "text/x-python",
   "name": "python",
   "nbconvert_exporter": "python",
   "pygments_lexer": "ipython3",
   "version": "3.9.7"
  }
 },
 "nbformat": 4,
 "nbformat_minor": 5
}
