{
 "cells": [
  {
   "cell_type": "code",
   "execution_count": 2,
   "id": "bd78b847",
   "metadata": {},
   "outputs": [],
   "source": [
    "'''\n",
    "Name: Shashwat Ghevde\n",
    "'''"
   ]
  },
  {
   "cell_type": "code",
   "execution_count": null,
   "id": "9ba1109a",
   "metadata": {},
   "outputs": [],
   "source": [
    "import pandas as pd\n",
    "import os"
   ]
  },
  {
   "cell_type": "code",
   "execution_count": 3,
   "id": "51ae1bca",
   "metadata": {},
   "outputs": [],
   "source": [
    "# accessing the tickers.txt in Task 1 folder\n",
    "\n",
    "parent_dir = \"..\"\n",
    "task_dir = \"task_1\"\n",
    "filename = \"tickers.txt\"\n",
    "\n",
    "data_directory = os.path.join(parent_dir, task_dir,filename)\n",
    "\n",
    "tickers = []\n",
    "with open(data_directory, 'r') as f:\n",
    "    for line in f:\n",
    "        tickers.append(line.strip())"
   ]
  },
  {
   "cell_type": "code",
   "execution_count": 5,
   "id": "bc139c91",
   "metadata": {},
   "outputs": [],
   "source": [
    "\n",
    "'''\n",
    "Formula: Dividends / Current Stock Price\n",
    "This measures the dividend income as a percentage of the stock price.\n",
    "'''\n",
    "\n",
    "'''\n",
    "Parameters: df(Dataframe with the wanted columns), ticker(String with company ticker name)\n",
    "Return: N/A\n",
    "\n",
    "This method calculates the volume momentum\n",
    "'''\n",
    "def calculate_dividend_yield(df, ticker):\n",
    "    df[f\"{ticker}\"] = (df[\"Dividends\"] / df[\"Close\"]) * 100\n",
    "    return df\n",
    "\n",
    "\n",
    "momentum_df = pd.DataFrame()\n",
    "\n",
    "parent_dir = \"..\"\n",
    "task_dir = \"task_1\"\n",
    "data_dir = \"data\"\n",
    "extension = \".csv\"\n",
    "\n",
    "first_ticker_flag = True\n",
    "\n",
    "for ticker in tickers:\n",
    "    \n",
    "    ticker_extension = ticker + extension\n",
    "    \n",
    "    company_path = os.path.join(parent_dir, task_dir, data_dir, ticker_extension)\n",
    "    df = pd.read_csv(company_path)\n",
    "    df = calculate_dividend_yield(df, ticker)    \n",
    "    df = df[['Date', f'{ticker}']]\n",
    "    \n",
    "    if first_ticker_flag:\n",
    "        momentum_df = df\n",
    "        first_ticker_flag = False\n",
    "    else:\n",
    "        momentum_df = pd.merge(momentum_df, df, on = \"Date\", how = \"left\")\n",
    "        \n",
    "        \n",
    "    \n",
    "momentum_df.fillna('', inplace = True)    \n",
    "\n",
    "filename = \"dividend_yield.csv\"\n",
    "momentum_df.to_csv(filename)\n"
   ]
  }
 ],
 "metadata": {
  "kernelspec": {
   "display_name": "Python 3 (ipykernel)",
   "language": "python",
   "name": "python3"
  },
  "language_info": {
   "codemirror_mode": {
    "name": "ipython",
    "version": 3
   },
   "file_extension": ".py",
   "mimetype": "text/x-python",
   "name": "python",
   "nbconvert_exporter": "python",
   "pygments_lexer": "ipython3",
   "version": "3.9.7"
  }
 },
 "nbformat": 4,
 "nbformat_minor": 5
}
