{
 "cells": [
  {
   "cell_type": "code",
   "execution_count": 5,
   "id": "c43ad4c9",
   "metadata": {},
   "outputs": [],
   "source": [
    "import yfinance as yahooFinance\n",
    "import csv\n",
    "import os\n",
    "import datetime\n",
    "import pandas as pd"
   ]
  },
  {
   "cell_type": "code",
   "execution_count": 6,
   "id": "975dbc35",
   "metadata": {
    "scrolled": true
   },
   "outputs": [],
   "source": [
    "\n",
    "filename = \"tickers.txt\"\n",
    "\n",
    "tickers = []\n",
    "\n",
    "# issue: getting the names from the file, not knowing strip()\n",
    "with open(filename, 'r') as f:\n",
    "    for line in f:\n",
    "        tickers.append(line.strip())\n",
    "        \n",
    "# tickers"
   ]
  },
  {
   "cell_type": "code",
   "execution_count": 7,
   "id": "3840c473",
   "metadata": {},
   "outputs": [],
   "source": [
    "if not os.path.exists(\"data\"):\n",
    "    os.makedirs(\"data\")\n",
    "    \n",
    "startDate = datetime.datetime(2021, 1, 1)\n",
    "endDate = datetime.datetime(2023, 12, 31)\n",
    "\n",
    "\n",
    "def calculate_adjusted_close(df):\n",
    "    \n",
    "    df['Adjusted Close'] = df.apply(lambda row: row[\"Close\"] + row[\"Dividends\"] - (row[\"Close\"] / row[\"Stock Splits\"]),  axis=1)\n",
    "\n",
    "for company in tickers:\n",
    "    \n",
    "    filename = company + \".csv\"\n",
    "\n",
    "    getCompanyInformation = yahooFinance.Ticker(company)\n",
    "    company_history = getCompanyInformation.history(start = startDate, end = endDate)\n",
    "    \n",
    "    company_history['Adjusted Close'] = company_history.apply(lambda row: row[\"Close\"] + row[\"Dividends\"] if row[\"Stock Splits\"] == 0 else row[\"Close\"] + row[\"Dividends\"] - (row[\"Close\"] / row[\"Stock Splits\"]), axis = 1)\n",
    "    company_history.index = company_history.index.strftime('%m/%d/%Y')\n",
    "    \n",
    "    \n",
    "    filename = os.path.join(\"data\", f\"{company}.csv\")\n",
    "    \n",
    "\n",
    "    company_history.to_csv(filename)"
   ]
  }
 ],
 "metadata": {
  "kernelspec": {
   "display_name": "Python 3 (ipykernel)",
   "language": "python",
   "name": "python3"
  },
  "language_info": {
   "codemirror_mode": {
    "name": "ipython",
    "version": 3
   },
   "file_extension": ".py",
   "mimetype": "text/x-python",
   "name": "python",
   "nbconvert_exporter": "python",
   "pygments_lexer": "ipython3",
   "version": "3.9.7"
  }
 },
 "nbformat": 4,
 "nbformat_minor": 5
}
